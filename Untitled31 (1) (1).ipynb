{
 "cells": [
  {
   "cell_type": "code",
   "execution_count": 8,
   "id": "e0758a0a",
   "metadata": {},
   "outputs": [
    {
     "ename": "SyntaxError",
     "evalue": "unmatched ')' (621129631.py, line 70)",
     "output_type": "error",
     "traceback": [
      "\u001b[1;36m  Cell \u001b[1;32mIn[8], line 70\u001b[1;36m\u001b[0m\n\u001b[1;33m    return(self.quickinssort(lower,cutoff)+self.quickinssort(upper,cutoff)) )\u001b[0m\n\u001b[1;37m                                                                            ^\u001b[0m\n\u001b[1;31mSyntaxError\u001b[0m\u001b[1;31m:\u001b[0m unmatched ')'\n"
     ]
    }
   ],
   "source": [
    "import random\n",
    "import statistics\n",
    "import time\n",
    "\n",
    "class Sort:\n",
    "    def __init__(self):\n",
    "        self.lists1 = [[random.randint(0, 1000) for x in range(5000)] for x in range(100)]\n",
    "        self.lists2 = [[random.randint(0, 1000) for x in range(50000)] for x in range(100)]\n",
    "\n",
    "    def selectionsort(self, l):\n",
    "        m = len(l)\n",
    "        if m < 1:\n",
    "            return l\n",
    "        for i in range(m):\n",
    "            mpos = i\n",
    "            for j in range(i + 1, m):\n",
    "                if l[j] < l[mpos]:\n",
    "                    mpos = j\n",
    "            l[mpos], l[i] = l[i], l[mpos]\n",
    "        return l\n",
    "\n",
    "    def insertionsort(self, l):\n",
    "        m = len(l)\n",
    "        if m < 1:\n",
    "            return l\n",
    "        for i in range(m):\n",
    "            j = i\n",
    "            while (j > 0 and l[j] < l[j - 1]):\n",
    "                l[j], l[j - 1] = l[j - 1], l[j]\n",
    "                j = j - 1\n",
    "        return l\n",
    "\n",
    "    def merge(self,A, B):\n",
    "            (m, n) = (len(A), len(B))\n",
    "            (C, i, j, k) = ([], 0, 0, 0)\n",
    "            while k < m + n:\n",
    "                if i == m:\n",
    "                    C.extend(B[j:])\n",
    "                    k = k + (n - j)\n",
    "                elif j == n:\n",
    "                    C.extend(A[i:])\n",
    "                    k = k + (n - i)\n",
    "                elif A[i] < B[j]:\n",
    "                    C.append(A[i])\n",
    "                    (i, k) = (i + 1, k + 1)\n",
    "                else:\n",
    "                    C.append(B[j])\n",
    "                    (j, k) = (j + 1, k + 1)\n",
    "            return C\n",
    "\n",
    "    def mergeinssort(self,A,cutoff):\n",
    "            n = len(A)\n",
    "            if n<=1:\n",
    "                return (A)\n",
    "            if n <= cutoff:\n",
    "                return self.insertionsort(A)\n",
    "            L = self.mergeinssort(A[:n // 2],cutoff)\n",
    "            R = self.mergeinssort(A[n // 2:],cutoff)\n",
    "            B = self.merge(L, R)\n",
    "            return B\n",
    "    def quickinssort(self,l,cutoff):\n",
    "        n=len(l)\n",
    "        if n<=1:\n",
    "            return(l)\n",
    "        if n<=cutoff:\n",
    "            return self.insertionsort(l)\n",
    "        pivot=l[random.randint(0,n-1)]\n",
    "        lower=[x for x in l if x<=pivot]\n",
    "        upper=[x for x in l if x>pivot]\n",
    "        return(self.quickinssort(lower,cutoff)+self.quickinssort(upper,cutoff)) )\n",
    "    \n",
    "\n",
    "    \n",
    "    def selectionsort_time(self, lists):\n",
    "        p = []\n",
    "        for m in range(5):\n",
    "            timelist = []\n",
    "            for ranlist in lists:\n",
    "                starttime = time.perf_counter()\n",
    "                self.selectionsort(ranlist)\n",
    "                elapsed = time.perf_counter() - starttime\n",
    "                timelist.append(elapsed)\n",
    "            p.append((statistics.mean(timelist), statistics.stdev(timelist)))\n",
    "        return p\n",
    "    def insertionsort_time(self, lists):\n",
    "        p = []\n",
    "        for m in range(5):\n",
    "            timelist = []\n",
    "            for ranlist in lists:\n",
    "                starttime = time.perf_counter()\n",
    "                self.insertionsort(ranlist)\n",
    "                elapsed = time.perf_counter() - starttime\n",
    "                timelist.append(elapsed)\n",
    "            p.append((statistics.mean(timelist), statistics.stdev(timelist)))\n",
    "        return p\n",
    "    def mergeinssort_time(self,lists,cutoff):\n",
    "        p = []\n",
    "        for m in range(5):\n",
    "            timelist = []\n",
    "            for ranlist in lists:\n",
    "                starttime = time.perf_counter()\n",
    "                self.mergeinssort(ranlist,cutoff)\n",
    "                elapsed = time.perf_counter() - starttime\n",
    "                timelist.append(elapsed)\n",
    "            p.append((statistics.mean(timelist), statistics.stdev(timelist)))\n",
    "        return p\n",
    "    def quickinssort_time(self, lists,cutoff):\n",
    "        p = []\n",
    "        for m in range(5):\n",
    "            timelist = []\n",
    "            for ranlist in lists:\n",
    "                starttime = time.perf_counter()\n",
    "                self.quickinssort(ranlist,cutoff)\n",
    "                elapsed = time.perf_counter() - starttime\n",
    "                timelist.append(elapsed)\n",
    "            p.append((statistics.mean(timelist), statistics.stdev(timelist)))\n",
    "        return p\n",
    "\n"
   ]
  },
  {
   "cell_type": "code",
   "execution_count": 2,
   "id": "6a890f99",
   "metadata": {},
   "outputs": [
    {
     "name": "stdout",
     "output_type": "stream",
     "text": [
      "Selection Sort Times: [(7.627499995578546e-05, 3.0915134329942146e-05), (6.764200002180587e-05, 3.3322174231417216e-06), (0.00014275700012149174, 6.0088557949965375e-05), (8.069599996815669e-05, 3.677048085152547e-05), (6.821400002081646e-05, 4.876557383102647e-06)]\n"
     ]
    }
   ],
   "source": [
    "sorter = Sort()\n",
    "selection_sort_times = sorter.selectionsort_time(sorter.lists1)\n",
    "print(\"Selection Sort Times:\", selection_sort_times)"
   ]
  },
  {
   "cell_type": "code",
   "execution_count": 5,
   "id": "1271dea5",
   "metadata": {},
   "outputs": [
    {
     "name": "stdout",
     "output_type": "stream",
     "text": [
      "Insertion Sort Times: [(4.366000011941651e-06, 5.583561298994821e-07), (7.092000041666324e-06, 1.7873675959064992e-06), (4.1750000582396754e-06, 6.399771036914794e-07), (4.714999968200573e-06, 1.7662020504373982e-06), (9.904000007736613e-06, 9.132337059464278e-06)]\n"
     ]
    }
   ],
   "source": [
    "insertion_sort_times=sorter.insertionsort_time(sorter.lists1)\n",
    "print(\"Insertion Sort Times:\",insertion_sort_times)"
   ]
  },
  {
   "cell_type": "code",
   "execution_count": 6,
   "id": "2ba27ec0",
   "metadata": {},
   "outputs": [
    {
     "name": "stdout",
     "output_type": "stream",
     "text": [
      "Merge variant Sort Times: [(0.0001470509999580827, 7.245435690044462e-05), (7.303700003831181e-05, 4.949554428450031e-07), (0.00015431499996338972, 5.4686805951005584e-05), (8.778599996730918e-05, 6.997745235870647e-05), (7.363499997154577e-05, 6.379219637828554e-07)]\n"
     ]
    }
   ],
   "source": [
    "#putting cutoff as zero \n",
    "mergeins_sort_times=sorter.mergeinssort_time(sorter.lists2,0)\n",
    "print(\"Merge variant Sort Times:\",mergeins_sort_times)\n"
   ]
  },
  {
   "cell_type": "code",
   "execution_count": 7,
   "id": "2c50e989",
   "metadata": {},
   "outputs": [
    {
     "name": "stdout",
     "output_type": "stream",
     "text": [
      "Merge variant Sort Times: [(3.2040000005508775e-05, 1.3676618729625365e-05), (2.7774999989560455e-05, 2.6919893810093414e-05), (4.157600000326056e-05, 3.577829920349161e-05), (6.711700000778365e-05, 4.1432430243447496e-05), (2.1191000014368912e-05, 5.51965281885759e-07)]\n",
      "Merge variant Sort Times: [(7.737000003544382e-05, 2.3924348387709845e-05), (8.596700005909952e-05, 2.635307675119106e-05), (7.799000006343704e-05, 2.4157452792531282e-05), (4.09710000258201e-05, 1.5469288740616605e-06), (4.1003000014825374e-05, 4.6849319648962155e-07)]\n",
      "Merge variant Sort Times: [(4.109000037715305e-06, 5.49029447813001e-07), (4.034000030515017e-06, 1.1910443860007653e-07), (4.064000004291301e-06, 1.1765384015736901e-07), (4.066000010425341e-06, 1.9757110291817862e-07), (4.08699993386108e-06, 1.1160443944287204e-07)]\n",
      "Merge variant Sort Times: [(4.055000035805279e-06, 1.057680360772406e-07), (4.04700001126912e-06, 1.1845386861576031e-07), (4.064000067955931e-06, 1.1679218640289542e-07), (4.121000029044808e-06, 2.5753106060664593e-07), (4.102000057173427e-06, 2.5975128598857034e-07)]\n",
      "Merge variant Sort Times: [(4.146000037508202e-06, 6.629319735464884e-07), (4.081999959453242e-06, 1.0766573375554246e-07), (4.9509999826113925e-06, 2.490973371455793e-06), (4.156000104558189e-06, 2.095304864132811e-07), (4.106999904252007e-06, 1.4016949126986856e-07)]\n",
      "Merge variant Sort Times: [(1.6410999996878673e-05, 5.653093957514189e-07), (1.6339000048901652e-05, 2.9504147772967874e-07), (1.628699998036609e-05, 3.2494135437725083e-07), (1.6340000001946464e-05, 2.919802709303217e-07), (1.629300002605305e-05, 2.797022481548176e-07)]\n",
      "Merge variant Sort Times: [(4.6761000085098204e-05, 2.5865830584408465e-05), (4.856300000028568e-05, 1.771931355038417e-05), (4.434200003743172e-05, 3.5609605593174587e-06), (5.142499991052318e-05, 1.8140246938248277e-05), (8.906100001695449e-05, 1.1219912815623985e-05)]\n",
      "Merge variant Sort Times: [(1.0519000006752322e-05, 1.5088622705233377e-07), (1.0429999965708703e-05, 1.2350116065071508e-07), (1.0399999991932418e-05, 1.1976406930262902e-07), (1.136100004259788e-05, 3.8403991412330245e-06), (4.269999981261208e-06, 5.55868633318434e-07)]\n",
      "Merge variant Sort Times: [(4.266999940227833e-06, 5.83970302384753e-07), (4.04299999900104e-06, 1.3725671659544815e-07), (4.058999966218835e-06, 1.1728835695503054e-07), (4.053000066051027e-06, 1.2264347496630643e-07), (4.04800002797856e-06, 1.114459537003855e-07)]\n",
      "Merge variant Sort Times: [(4.066999981660046e-06, 1.035286479700975e-07), (4.096999991816119e-06, 4.0934908788900747e-07), (4.048000064358348e-06, 1.114459543598059e-07), (4.055000017615384e-06, 1.1043990213660999e-07), (4.038000015498255e-06, 1.0615405770307245e-07)]\n"
     ]
    }
   ],
   "source": [
    "cutofflist=[random.randint(0,100) for x in range(10)]\n",
    "for cutoff in cutofflist:\n",
    "    mergeins_sort_times=sorter.mergeinssort_time(sorter.lists2,cutoff)\n",
    "    print(\"Merge variant Sort Times:\",mergeins_sort_times)"
   ]
  },
  {
   "cell_type": "code",
   "execution_count": 4,
   "id": "0c21ed9e",
   "metadata": {},
   "outputs": [
    {
     "name": "stdout",
     "output_type": "stream",
     "text": [
      "cutoff: 45 \n",
      "Insertion variant Sort Times: [(0.000121770000023389, 8.281670098171845e-05), (8.434499999566469e-05, 4.1571161709622315e-05), (6.397799995284004e-05, 2.460779045708285e-05), (5.830100007187866e-05, 9.164671940993407e-06), (7.415300006869075e-05, 3.4469566306525516e-05)]\n",
      "cutoff: 15 \n",
      "Insertion variant Sort Times: [(7.418400004098658e-05, 4.457935317894065e-05), (7.227999995848222e-05, 4.234858950229352e-05), (8.152000003065041e-05, 2.802727749323101e-05), (5.838699994455965e-05, 3.858265335218193e-05), (4.342499988524651e-05, 4.340026833816887e-06)]\n",
      "cutoff: 59 \n",
      "Insertion variant Sort Times: [(8.547100001123908e-05, 1.0186773842518419e-05), (4.108999946765834e-06, 2.621184747402527e-07), (4.0600000647827985e-06, 1.0540927533686197e-07), (4.077000012330245e-06, 1.0430630018677674e-07), (4.1039999996428376e-06, 2.403364499504386e-07)]\n",
      "cutoff: 33 \n",
      "Insertion variant Sort Times: [(1.4349999992191442e-05, 4.365671876216494e-06), (1.4821000004303641e-05, 4.944220082991025e-06), (1.527999998870655e-05, 5.064253816996827e-06), (1.42939999113878e-05, 4.893467478509099e-06), (1.411699994605442e-05, 4.4010572083024914e-06)]\n",
      "cutoff: 6 \n",
      "Insertion variant Sort Times: [(5.286000002342917e-05, 2.0965874153341635e-05), (5.0528999972812015e-05, 6.525308772705263e-06), (5.0939000029757156e-05, 5.8619970388828705e-06), (5.7038000059037585e-05, 1.8576202770444163e-05), (5.0941999988936e-05, 5.97006301789576e-06)]\n",
      "cutoff: 76 \n",
      "Insertion variant Sort Times: [(4.10000004194444e-06, 2.647659153849093e-07), (4.101000022274093e-06, 2.676100217798575e-07), (4.043000026285881e-06, 1.2573420954085536e-07), (4.077000048710033e-06, 2.497897787100107e-07), (4.0870000339054964e-06, 2.513217810382194e-07)]\n",
      "cutoff: 42 \n",
      "Insertion variant Sort Times: [(1.182800000606221e-05, 3.1035685451840403e-06), (1.2403999999150983e-05, 4.634127256656133e-06), (1.1647999954220723e-05, 3.55759203666074e-06), (1.1934999993172823e-05, 3.2515536221733762e-06), (1.1498000067149405e-05, 3.090846035419752e-06)]\n",
      "cutoff: 79 \n",
      "Insertion variant Sort Times: [(4.091999999218388e-06, 2.7512350780153564e-07), (4.0430000535707225e-06, 1.265349951902618e-07), (4.089000021849643e-06, 2.685143436827636e-07), (4.07100001211802e-06, 1.1485168543637758e-07), (4.065999974045553e-06, 1.2730301907622354e-07)]\n",
      "cutoff: 19 \n",
      "Insertion variant Sort Times: [(2.3534999972980585e-05, 5.181579168061696e-06), (2.311700004611339e-05, 5.0071071883489286e-06), (2.5928000031854026e-05, 1.3182817730648311e-05), (2.2403999992093304e-05, 4.507007273847974e-06), (2.2906000003786177e-05, 4.704668243080977e-06)]\n",
      "cutoff: 11 \n",
      "Insertion variant Sort Times: [(3.398300004846533e-05, 5.364587527610847e-06), (3.378699995664647e-05, 4.77198587921092e-06), (3.480000002127781e-05, 6.5781087860553266e-06), (3.2623000006424266e-05, 5.2342279395301135e-06), (3.235399990444421e-05, 4.155838513390617e-06)]\n"
     ]
    }
   ],
   "source": [
    "cutofflist=[random.randint(0,100) for x in range(10)]\n",
    "for cutoff in cutofflist:\n",
    "    quickins_sort_times=sorter.quickinssort_time(sorter.lists2,cutoff)\n",
    "    print(\"cutoff:\",cutoff,\"\\nInsertion variant Sort Times:\",quickins_sort_times)"
   ]
  },
  {
   "cell_type": "code",
   "execution_count": null,
   "id": "aad9e11e",
   "metadata": {},
   "outputs": [],
   "source": []
  },
  {
   "cell_type": "code",
   "execution_count": null,
   "id": "b887ea8d",
   "metadata": {},
   "outputs": [],
   "source": []
  }
 ],
 "metadata": {
  "kernelspec": {
   "display_name": "Python 3 (ipykernel)",
   "language": "python",
   "name": "python3"
  },
  "language_info": {
   "codemirror_mode": {
    "name": "ipython",
    "version": 3
   },
   "file_extension": ".py",
   "mimetype": "text/x-python",
   "name": "python",
   "nbconvert_exporter": "python",
   "pygments_lexer": "ipython3",
   "version": "3.11.4"
  }
 },
 "nbformat": 4,
 "nbformat_minor": 5
}
